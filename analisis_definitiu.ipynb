{
 "cells": [
  {
   "cell_type": "code",
   "execution_count": 35,
   "metadata": {},
   "outputs": [],
   "source": [
    "import pandas as pd\n",
    "import matplotlib.pyplot as plt"
   ]
  },
  {
   "cell_type": "markdown",
   "metadata": {},
   "source": [
    "En primer lugar seleccionamos el archivo que deseamos analizar en formato csv y lo transformamos a DataFrame. Usamos la primera columna de nuestro csv como ínidice."
   ]
  },
  {
   "cell_type": "code",
   "execution_count": 36,
   "metadata": {},
   "outputs": [
    {
     "data": {
      "text/html": [
       "<div>\n",
       "<style scoped>\n",
       "    .dataframe tbody tr th:only-of-type {\n",
       "        vertical-align: middle;\n",
       "    }\n",
       "\n",
       "    .dataframe tbody tr th {\n",
       "        vertical-align: top;\n",
       "    }\n",
       "\n",
       "    .dataframe thead th {\n",
       "        text-align: right;\n",
       "    }\n",
       "</style>\n",
       "<table border=\"1\" class=\"dataframe\">\n",
       "  <thead>\n",
       "    <tr style=\"text-align: right;\">\n",
       "      <th></th>\n",
       "      <th>Preu</th>\n",
       "      <th>Habitacions</th>\n",
       "      <th>Banys</th>\n",
       "      <th>Metres quadrats</th>\n",
       "      <th>Zona</th>\n",
       "      <th>Tipo</th>\n",
       "    </tr>\n",
       "  </thead>\n",
       "  <tbody>\n",
       "    <tr>\n",
       "      <th>0</th>\n",
       "      <td>2100.0</td>\n",
       "      <td>3.0</td>\n",
       "      <td>2.0</td>\n",
       "      <td>142.0</td>\n",
       "      <td>Dels Madrazo, Sarrià - Sant Gervasi</td>\n",
       "      <td>Piso</td>\n",
       "    </tr>\n",
       "    <tr>\n",
       "      <th>1</th>\n",
       "      <td>1150.0</td>\n",
       "      <td>3.0</td>\n",
       "      <td>1.0</td>\n",
       "      <td>68.0</td>\n",
       "      <td>Carrer D'aragó, Eixample</td>\n",
       "      <td>Piso</td>\n",
       "    </tr>\n",
       "    <tr>\n",
       "      <th>2</th>\n",
       "      <td>1750.0</td>\n",
       "      <td>2.0</td>\n",
       "      <td>1.0</td>\n",
       "      <td>90.0</td>\n",
       "      <td>Comte Borrell, Eixample</td>\n",
       "      <td>Piso</td>\n",
       "    </tr>\n",
       "    <tr>\n",
       "      <th>3</th>\n",
       "      <td>1200.0</td>\n",
       "      <td>1.0</td>\n",
       "      <td>1.0</td>\n",
       "      <td>60.0</td>\n",
       "      <td>Mata, Sants - Montjuïc</td>\n",
       "      <td>Piso</td>\n",
       "    </tr>\n",
       "    <tr>\n",
       "      <th>4</th>\n",
       "      <td>1150.0</td>\n",
       "      <td>3.0</td>\n",
       "      <td>1.0</td>\n",
       "      <td>70.0</td>\n",
       "      <td>Carrer D'aragó, Eixample</td>\n",
       "      <td>Piso</td>\n",
       "    </tr>\n",
       "    <tr>\n",
       "      <th>...</th>\n",
       "      <td>...</td>\n",
       "      <td>...</td>\n",
       "      <td>...</td>\n",
       "      <td>...</td>\n",
       "      <td>...</td>\n",
       "      <td>...</td>\n",
       "    </tr>\n",
       "    <tr>\n",
       "      <th>2666</th>\n",
       "      <td>1100.0</td>\n",
       "      <td>2.0</td>\n",
       "      <td>1.0</td>\n",
       "      <td>72.0</td>\n",
       "      <td>Carrer Alcalde de Mostoles (l´), Gràcia</td>\n",
       "      <td>Ático</td>\n",
       "    </tr>\n",
       "    <tr>\n",
       "      <th>2667</th>\n",
       "      <td>910.0</td>\n",
       "      <td>3.0</td>\n",
       "      <td>1.0</td>\n",
       "      <td>100.0</td>\n",
       "      <td>Tisso, Nou Barris</td>\n",
       "      <td>Ático</td>\n",
       "    </tr>\n",
       "    <tr>\n",
       "      <th>2668</th>\n",
       "      <td>705.0</td>\n",
       "      <td>2.0</td>\n",
       "      <td>1.0</td>\n",
       "      <td>50.0</td>\n",
       "      <td>Carrer Dels Agullers, Ciutat Vella</td>\n",
       "      <td>Piso</td>\n",
       "    </tr>\n",
       "    <tr>\n",
       "      <th>2669</th>\n",
       "      <td>850.0</td>\n",
       "      <td>Null</td>\n",
       "      <td>1.0</td>\n",
       "      <td>37.0</td>\n",
       "      <td>Carrer Argenter (l´), Eixample</td>\n",
       "      <td>Piso</td>\n",
       "    </tr>\n",
       "    <tr>\n",
       "      <th>2670</th>\n",
       "      <td>1275.0</td>\n",
       "      <td>2.0</td>\n",
       "      <td>1.0</td>\n",
       "      <td>56.0</td>\n",
       "      <td>Carrer Dels Bofarull, Sant Andreu</td>\n",
       "      <td>Piso</td>\n",
       "    </tr>\n",
       "  </tbody>\n",
       "</table>\n",
       "<p>2671 rows × 6 columns</p>\n",
       "</div>"
      ],
      "text/plain": [
       "        Preu Habitacions Banys Metres quadrats  \\\n",
       "0     2100.0         3.0   2.0           142.0   \n",
       "1     1150.0         3.0   1.0            68.0   \n",
       "2     1750.0         2.0   1.0            90.0   \n",
       "3     1200.0         1.0   1.0            60.0   \n",
       "4     1150.0         3.0   1.0            70.0   \n",
       "...      ...         ...   ...             ...   \n",
       "2666  1100.0         2.0   1.0            72.0   \n",
       "2667   910.0         3.0   1.0           100.0   \n",
       "2668   705.0         2.0   1.0            50.0   \n",
       "2669   850.0        Null   1.0            37.0   \n",
       "2670  1275.0         2.0   1.0            56.0   \n",
       "\n",
       "                                         Zona   Tipo  \n",
       "0         Dels Madrazo, Sarrià - Sant Gervasi   Piso  \n",
       "1                    Carrer D'aragó, Eixample   Piso  \n",
       "2                     Comte Borrell, Eixample   Piso  \n",
       "3                      Mata, Sants - Montjuïc   Piso  \n",
       "4                    Carrer D'aragó, Eixample   Piso  \n",
       "...                                       ...    ...  \n",
       "2666  Carrer Alcalde de Mostoles (l´), Gràcia  Ático  \n",
       "2667                        Tisso, Nou Barris  Ático  \n",
       "2668       Carrer Dels Agullers, Ciutat Vella   Piso  \n",
       "2669           Carrer Argenter (l´), Eixample   Piso  \n",
       "2670        Carrer Dels Bofarull, Sant Andreu   Piso  \n",
       "\n",
       "[2671 rows x 6 columns]"
      ]
     },
     "execution_count": 36,
     "metadata": {},
     "output_type": "execute_result"
    }
   ],
   "source": [
    "df = pd.read_csv('barcelona-capital_alquiler.csv', index_col=0)\n",
    "df\n"
   ]
  },
  {
   "cell_type": "markdown",
   "metadata": {},
   "source": [
    "A continuación nos fijaremos en el tipo de datos de cada columna y realizaremos los cambios necesarios para dejar cada columna en el formato que nos vaya mejor para realizar un analisis. En este caso las columnas Preu, Habitacions, Banys i Metres quadrats tienen que estar en un formato número ya sea int o float. Vemos que el nombre de la columna Metres quadrats, contiene un espacio. Este hecho puede provocar errores en el código por tato adaptaremos su nombre para que sea mas sencillo hacer referencia a esta columa"
   ]
  },
  {
   "cell_type": "code",
   "execution_count": 37,
   "metadata": {},
   "outputs": [
    {
     "name": "stdout",
     "output_type": "stream",
     "text": [
      "Preu               object\n",
      "Habitacions        object\n",
      "Banys              object\n",
      "Metres quadrats    object\n",
      "Zona               object\n",
      "Tipo               object\n",
      "dtype: object\n",
      "Preu           float64\n",
      "Habitacions    float64\n",
      "Banys          float64\n",
      "m2             float64\n",
      "Zona            object\n",
      "Tipo            object\n",
      "dtype: object\n"
     ]
    }
   ],
   "source": [
    "print(df.dtypes)\n",
    "num_col = ['Preu', 'Habitacions', 'Banys', 'm2']\n",
    "df = df.rename({'Metres quadrats':'m2'},axis=1)\n",
    "df = df[pd.to_numeric(df.Preu, errors = \"coerce\").notnull()]\n",
    "df = df[pd.to_numeric(df.Habitacions, errors = \"coerce\").notnull()]\n",
    "df = df[pd.to_numeric(df.Banys, errors = \"coerce\").notnull()] \n",
    "df = df[pd.to_numeric(df.m2, errors = \"coerce\").notnull()]\n",
    " \n",
    "for i in num_col:\n",
    "    df[i] = df[[i]].apply(pd.to_numeric)\n",
    "print(df.dtypes)"
   ]
  },
  {
   "cell_type": "markdown",
   "metadata": {},
   "source": [
    "Añadimos una columna que llamaremos r_m2 que sera el resultado de divir el precio de alquiler entre los metros cuadrados de cada vivienda. Con este valor determinamos la retabilidad por metro quadrado"
   ]
  },
  {
   "cell_type": "code",
   "execution_count": 38,
   "metadata": {},
   "outputs": [
    {
     "data": {
      "text/html": [
       "<div>\n",
       "<style scoped>\n",
       "    .dataframe tbody tr th:only-of-type {\n",
       "        vertical-align: middle;\n",
       "    }\n",
       "\n",
       "    .dataframe tbody tr th {\n",
       "        vertical-align: top;\n",
       "    }\n",
       "\n",
       "    .dataframe thead th {\n",
       "        text-align: right;\n",
       "    }\n",
       "</style>\n",
       "<table border=\"1\" class=\"dataframe\">\n",
       "  <thead>\n",
       "    <tr style=\"text-align: right;\">\n",
       "      <th></th>\n",
       "      <th>Preu</th>\n",
       "      <th>Habitacions</th>\n",
       "      <th>Banys</th>\n",
       "      <th>m2</th>\n",
       "      <th>Zona</th>\n",
       "      <th>Tipo</th>\n",
       "      <th>r_m2</th>\n",
       "    </tr>\n",
       "  </thead>\n",
       "  <tbody>\n",
       "    <tr>\n",
       "      <th>0</th>\n",
       "      <td>2100.0</td>\n",
       "      <td>3.0</td>\n",
       "      <td>2.0</td>\n",
       "      <td>142.0</td>\n",
       "      <td>Dels Madrazo, Sarrià - Sant Gervasi</td>\n",
       "      <td>Piso</td>\n",
       "      <td>14.788732</td>\n",
       "    </tr>\n",
       "    <tr>\n",
       "      <th>1</th>\n",
       "      <td>1150.0</td>\n",
       "      <td>3.0</td>\n",
       "      <td>1.0</td>\n",
       "      <td>68.0</td>\n",
       "      <td>Carrer D'aragó, Eixample</td>\n",
       "      <td>Piso</td>\n",
       "      <td>16.911765</td>\n",
       "    </tr>\n",
       "    <tr>\n",
       "      <th>2</th>\n",
       "      <td>1750.0</td>\n",
       "      <td>2.0</td>\n",
       "      <td>1.0</td>\n",
       "      <td>90.0</td>\n",
       "      <td>Comte Borrell, Eixample</td>\n",
       "      <td>Piso</td>\n",
       "      <td>19.444444</td>\n",
       "    </tr>\n",
       "    <tr>\n",
       "      <th>3</th>\n",
       "      <td>1200.0</td>\n",
       "      <td>1.0</td>\n",
       "      <td>1.0</td>\n",
       "      <td>60.0</td>\n",
       "      <td>Mata, Sants - Montjuïc</td>\n",
       "      <td>Piso</td>\n",
       "      <td>20.000000</td>\n",
       "    </tr>\n",
       "    <tr>\n",
       "      <th>4</th>\n",
       "      <td>1150.0</td>\n",
       "      <td>3.0</td>\n",
       "      <td>1.0</td>\n",
       "      <td>70.0</td>\n",
       "      <td>Carrer D'aragó, Eixample</td>\n",
       "      <td>Piso</td>\n",
       "      <td>16.428571</td>\n",
       "    </tr>\n",
       "    <tr>\n",
       "      <th>...</th>\n",
       "      <td>...</td>\n",
       "      <td>...</td>\n",
       "      <td>...</td>\n",
       "      <td>...</td>\n",
       "      <td>...</td>\n",
       "      <td>...</td>\n",
       "      <td>...</td>\n",
       "    </tr>\n",
       "    <tr>\n",
       "      <th>2665</th>\n",
       "      <td>750.0</td>\n",
       "      <td>2.0</td>\n",
       "      <td>1.0</td>\n",
       "      <td>55.0</td>\n",
       "      <td>Carrer de Perafita, Nou Barris</td>\n",
       "      <td>Piso</td>\n",
       "      <td>13.636364</td>\n",
       "    </tr>\n",
       "    <tr>\n",
       "      <th>2666</th>\n",
       "      <td>1100.0</td>\n",
       "      <td>2.0</td>\n",
       "      <td>1.0</td>\n",
       "      <td>72.0</td>\n",
       "      <td>Carrer Alcalde de Mostoles (l´), Gràcia</td>\n",
       "      <td>Ático</td>\n",
       "      <td>15.277778</td>\n",
       "    </tr>\n",
       "    <tr>\n",
       "      <th>2667</th>\n",
       "      <td>910.0</td>\n",
       "      <td>3.0</td>\n",
       "      <td>1.0</td>\n",
       "      <td>100.0</td>\n",
       "      <td>Tisso, Nou Barris</td>\n",
       "      <td>Ático</td>\n",
       "      <td>9.100000</td>\n",
       "    </tr>\n",
       "    <tr>\n",
       "      <th>2668</th>\n",
       "      <td>705.0</td>\n",
       "      <td>2.0</td>\n",
       "      <td>1.0</td>\n",
       "      <td>50.0</td>\n",
       "      <td>Carrer Dels Agullers, Ciutat Vella</td>\n",
       "      <td>Piso</td>\n",
       "      <td>14.100000</td>\n",
       "    </tr>\n",
       "    <tr>\n",
       "      <th>2670</th>\n",
       "      <td>1275.0</td>\n",
       "      <td>2.0</td>\n",
       "      <td>1.0</td>\n",
       "      <td>56.0</td>\n",
       "      <td>Carrer Dels Bofarull, Sant Andreu</td>\n",
       "      <td>Piso</td>\n",
       "      <td>22.767857</td>\n",
       "    </tr>\n",
       "  </tbody>\n",
       "</table>\n",
       "<p>2041 rows × 7 columns</p>\n",
       "</div>"
      ],
      "text/plain": [
       "        Preu  Habitacions  Banys     m2  \\\n",
       "0     2100.0          3.0    2.0  142.0   \n",
       "1     1150.0          3.0    1.0   68.0   \n",
       "2     1750.0          2.0    1.0   90.0   \n",
       "3     1200.0          1.0    1.0   60.0   \n",
       "4     1150.0          3.0    1.0   70.0   \n",
       "...      ...          ...    ...    ...   \n",
       "2665   750.0          2.0    1.0   55.0   \n",
       "2666  1100.0          2.0    1.0   72.0   \n",
       "2667   910.0          3.0    1.0  100.0   \n",
       "2668   705.0          2.0    1.0   50.0   \n",
       "2670  1275.0          2.0    1.0   56.0   \n",
       "\n",
       "                                         Zona   Tipo       r_m2  \n",
       "0         Dels Madrazo, Sarrià - Sant Gervasi   Piso  14.788732  \n",
       "1                    Carrer D'aragó, Eixample   Piso  16.911765  \n",
       "2                     Comte Borrell, Eixample   Piso  19.444444  \n",
       "3                      Mata, Sants - Montjuïc   Piso  20.000000  \n",
       "4                    Carrer D'aragó, Eixample   Piso  16.428571  \n",
       "...                                       ...    ...        ...  \n",
       "2665           Carrer de Perafita, Nou Barris   Piso  13.636364  \n",
       "2666  Carrer Alcalde de Mostoles (l´), Gràcia  Ático  15.277778  \n",
       "2667                        Tisso, Nou Barris  Ático   9.100000  \n",
       "2668       Carrer Dels Agullers, Ciutat Vella   Piso  14.100000  \n",
       "2670        Carrer Dels Bofarull, Sant Andreu   Piso  22.767857  \n",
       "\n",
       "[2041 rows x 7 columns]"
      ]
     },
     "execution_count": 38,
     "metadata": {},
     "output_type": "execute_result"
    }
   ],
   "source": [
    "df['r_m2'] = df['Preu'] / df['m2']\n",
    "df"
   ]
  },
  {
   "cell_type": "markdown",
   "metadata": {},
   "source": [
    "En este punto consideramos que nuestros datos estan limpios y podemos empezar con el análisis. En primer lugar veremos una descripción general de nuestros datos"
   ]
  },
  {
   "cell_type": "code",
   "execution_count": 39,
   "metadata": {},
   "outputs": [
    {
     "data": {
      "text/html": [
       "<div>\n",
       "<style scoped>\n",
       "    .dataframe tbody tr th:only-of-type {\n",
       "        vertical-align: middle;\n",
       "    }\n",
       "\n",
       "    .dataframe tbody tr th {\n",
       "        vertical-align: top;\n",
       "    }\n",
       "\n",
       "    .dataframe thead th {\n",
       "        text-align: right;\n",
       "    }\n",
       "</style>\n",
       "<table border=\"1\" class=\"dataframe\">\n",
       "  <thead>\n",
       "    <tr style=\"text-align: right;\">\n",
       "      <th></th>\n",
       "      <th>Preu</th>\n",
       "      <th>Habitacions</th>\n",
       "      <th>Banys</th>\n",
       "      <th>m2</th>\n",
       "      <th>r_m2</th>\n",
       "    </tr>\n",
       "  </thead>\n",
       "  <tbody>\n",
       "    <tr>\n",
       "      <th>count</th>\n",
       "      <td>2041.000000</td>\n",
       "      <td>2041.000000</td>\n",
       "      <td>2041.000000</td>\n",
       "      <td>2041.000000</td>\n",
       "      <td>2041.000000</td>\n",
       "    </tr>\n",
       "    <tr>\n",
       "      <th>mean</th>\n",
       "      <td>2515.079373</td>\n",
       "      <td>2.903969</td>\n",
       "      <td>1.898579</td>\n",
       "      <td>116.662420</td>\n",
       "      <td>22.579426</td>\n",
       "    </tr>\n",
       "    <tr>\n",
       "      <th>std</th>\n",
       "      <td>2196.122601</td>\n",
       "      <td>1.136553</td>\n",
       "      <td>1.030897</td>\n",
       "      <td>102.781074</td>\n",
       "      <td>10.831767</td>\n",
       "    </tr>\n",
       "    <tr>\n",
       "      <th>min</th>\n",
       "      <td>561.000000</td>\n",
       "      <td>1.000000</td>\n",
       "      <td>1.000000</td>\n",
       "      <td>12.000000</td>\n",
       "      <td>6.000000</td>\n",
       "    </tr>\n",
       "    <tr>\n",
       "      <th>25%</th>\n",
       "      <td>1300.000000</td>\n",
       "      <td>2.000000</td>\n",
       "      <td>1.000000</td>\n",
       "      <td>68.000000</td>\n",
       "      <td>15.486726</td>\n",
       "    </tr>\n",
       "    <tr>\n",
       "      <th>50%</th>\n",
       "      <td>1800.000000</td>\n",
       "      <td>3.000000</td>\n",
       "      <td>2.000000</td>\n",
       "      <td>86.000000</td>\n",
       "      <td>19.936170</td>\n",
       "    </tr>\n",
       "    <tr>\n",
       "      <th>75%</th>\n",
       "      <td>2800.000000</td>\n",
       "      <td>3.000000</td>\n",
       "      <td>2.000000</td>\n",
       "      <td>130.000000</td>\n",
       "      <td>26.666667</td>\n",
       "    </tr>\n",
       "    <tr>\n",
       "      <th>max</th>\n",
       "      <td>25000.000000</td>\n",
       "      <td>13.000000</td>\n",
       "      <td>9.000000</td>\n",
       "      <td>2000.000000</td>\n",
       "      <td>125.000000</td>\n",
       "    </tr>\n",
       "  </tbody>\n",
       "</table>\n",
       "</div>"
      ],
      "text/plain": [
       "               Preu  Habitacions        Banys           m2         r_m2\n",
       "count   2041.000000  2041.000000  2041.000000  2041.000000  2041.000000\n",
       "mean    2515.079373     2.903969     1.898579   116.662420    22.579426\n",
       "std     2196.122601     1.136553     1.030897   102.781074    10.831767\n",
       "min      561.000000     1.000000     1.000000    12.000000     6.000000\n",
       "25%     1300.000000     2.000000     1.000000    68.000000    15.486726\n",
       "50%     1800.000000     3.000000     2.000000    86.000000    19.936170\n",
       "75%     2800.000000     3.000000     2.000000   130.000000    26.666667\n",
       "max    25000.000000    13.000000     9.000000  2000.000000   125.000000"
      ]
     },
     "execution_count": 39,
     "metadata": {},
     "output_type": "execute_result"
    }
   ],
   "source": [
    "df.describe()"
   ]
  },
  {
   "cell_type": "markdown",
   "metadata": {},
   "source": [
    "Fijandonos en la descripción superficial, vemos que el maximo valor de las columnas es un poco desorbitado comparado con sus medias de manera que realizamos un grafico de caja para ver la distribución de los datos. Nos basaremos en la columna de precio."
   ]
  },
  {
   "cell_type": "code",
   "execution_count": 40,
   "metadata": {},
   "outputs": [
    {
     "data": {
      "text/plain": [
       "<AxesSubplot:>"
      ]
     },
     "execution_count": 40,
     "metadata": {},
     "output_type": "execute_result"
    },
    {
     "data": {
      "image/png": "[encoded data removed]",
      "text/plain": [
       "<Figure size 640x480 with 1 Axes>"
      ]
     },
     "metadata": {},
     "output_type": "display_data"
    }
   ],
   "source": [
    "df.boxplot(column='Preu')"
   ]
  },
  {
   "cell_type": "markdown",
   "metadata": {},
   "source": [
    "El grafico muestra que tenemos valores muy por encima de los valores típicos. Filtraremos los valores de nuestra base de datos en base al precio, dejando de lado para el analisis los valores que se encuentre en el 10% superior."
   ]
  },
  {
   "cell_type": "code",
   "execution_count": 46,
   "metadata": {},
   "outputs": [
    {
     "name": "stdout",
     "output_type": "stream",
     "text": [
      "        Preu  Habitacions  Banys     m2  \\\n",
      "69    4500.0          4.0    4.0  215.0   \n",
      "107   5000.0          2.0    1.0   85.0   \n",
      "148   4900.0          3.0    3.0  175.0   \n",
      "180   4500.0          4.0    3.0  374.0   \n",
      "219   5000.0          4.0    4.0  524.0   \n",
      "...      ...          ...    ...    ...   \n",
      "2544  5000.0          5.0    4.0  300.0   \n",
      "2562  5000.0          5.0    5.0  275.0   \n",
      "2571  5000.0          5.0    5.0  322.0   \n",
      "2575  5000.0          4.0    8.0  314.0   \n",
      "2576  5000.0          5.0    4.0  318.0   \n",
      "\n",
      "                                                 Zona          Tipo       r_m2  \n",
      "69      Carrer del Doctor Roux, Sarrià - Sant Gervasi          Piso  20.930233  \n",
      "107                   Carrer de Ramón y Cajal, Gràcia        Dúplex  58.823529  \n",
      "148                 Avinguda Diagonal, 489, Les Corts          Piso  28.000000  \n",
      "180   Carrer de Josep Bertrand, Sarrià - Sant Gervasi          Piso  12.032086  \n",
      "219                  Avinguda de Pedralbes, Les Corts          Piso   9.541985  \n",
      "...                                               ...           ...        ...  \n",
      "2544             Enric Gimenez, Sarrià - Sant Gervasi          Piso  16.666667  \n",
      "2562                            Sarrià - Sant Gervasi  Casa adosada  18.181818  \n",
      "2571                            Sarrià - Sant Gervasi          Piso  15.527950  \n",
      "2575                                        Les Corts          Piso  15.923567  \n",
      "2576                            Sarrià - Sant Gervasi          Piso  15.723270  \n",
      "\n",
      "[76 rows x 7 columns]\n"
     ]
    },
    {
     "data": {
      "text/html": [
       "<div>\n",
       "<style scoped>\n",
       "    .dataframe tbody tr th:only-of-type {\n",
       "        vertical-align: middle;\n",
       "    }\n",
       "\n",
       "    .dataframe tbody tr th {\n",
       "        vertical-align: top;\n",
       "    }\n",
       "\n",
       "    .dataframe thead th {\n",
       "        text-align: right;\n",
       "    }\n",
       "</style>\n",
       "<table border=\"1\" class=\"dataframe\">\n",
       "  <thead>\n",
       "    <tr style=\"text-align: right;\">\n",
       "      <th></th>\n",
       "      <th>Preu</th>\n",
       "      <th>Habitacions</th>\n",
       "      <th>Banys</th>\n",
       "      <th>m2</th>\n",
       "      <th>r_m2</th>\n",
       "    </tr>\n",
       "  </thead>\n",
       "  <tbody>\n",
       "    <tr>\n",
       "      <th>count</th>\n",
       "      <td>1763.000000</td>\n",
       "      <td>1763.000000</td>\n",
       "      <td>1763.000000</td>\n",
       "      <td>1763.000000</td>\n",
       "      <td>1763.000000</td>\n",
       "    </tr>\n",
       "    <tr>\n",
       "      <th>mean</th>\n",
       "      <td>1842.067499</td>\n",
       "      <td>2.738514</td>\n",
       "      <td>1.676687</td>\n",
       "      <td>95.266591</td>\n",
       "      <td>20.908062</td>\n",
       "    </tr>\n",
       "    <tr>\n",
       "      <th>std</th>\n",
       "      <td>754.866489</td>\n",
       "      <td>0.941674</td>\n",
       "      <td>0.725611</td>\n",
       "      <td>47.802711</td>\n",
       "      <td>8.156001</td>\n",
       "    </tr>\n",
       "    <tr>\n",
       "      <th>min</th>\n",
       "      <td>561.000000</td>\n",
       "      <td>1.000000</td>\n",
       "      <td>1.000000</td>\n",
       "      <td>12.000000</td>\n",
       "      <td>6.000000</td>\n",
       "    </tr>\n",
       "    <tr>\n",
       "      <th>25%</th>\n",
       "      <td>1250.000000</td>\n",
       "      <td>2.000000</td>\n",
       "      <td>1.000000</td>\n",
       "      <td>65.000000</td>\n",
       "      <td>15.091766</td>\n",
       "    </tr>\n",
       "    <tr>\n",
       "      <th>50%</th>\n",
       "      <td>1650.000000</td>\n",
       "      <td>3.000000</td>\n",
       "      <td>2.000000</td>\n",
       "      <td>81.000000</td>\n",
       "      <td>18.902439</td>\n",
       "    </tr>\n",
       "    <tr>\n",
       "      <th>75%</th>\n",
       "      <td>2300.000000</td>\n",
       "      <td>3.000000</td>\n",
       "      <td>2.000000</td>\n",
       "      <td>107.000000</td>\n",
       "      <td>24.633333</td>\n",
       "    </tr>\n",
       "    <tr>\n",
       "      <th>max</th>\n",
       "      <td>3995.000000</td>\n",
       "      <td>8.000000</td>\n",
       "      <td>8.000000</td>\n",
       "      <td>392.000000</td>\n",
       "      <td>77.777778</td>\n",
       "    </tr>\n",
       "  </tbody>\n",
       "</table>\n",
       "</div>"
      ],
      "text/plain": [
       "              Preu  Habitacions        Banys           m2         r_m2\n",
       "count  1763.000000  1763.000000  1763.000000  1763.000000  1763.000000\n",
       "mean   1842.067499     2.738514     1.676687    95.266591    20.908062\n",
       "std     754.866489     0.941674     0.725611    47.802711     8.156001\n",
       "min     561.000000     1.000000     1.000000    12.000000     6.000000\n",
       "25%    1250.000000     2.000000     1.000000    65.000000    15.091766\n",
       "50%    1650.000000     3.000000     2.000000    81.000000    18.902439\n",
       "75%    2300.000000     3.000000     2.000000   107.000000    24.633333\n",
       "max    3995.000000     8.000000     8.000000   392.000000    77.777778"
      ]
     },
     "execution_count": 46,
     "metadata": {},
     "output_type": "execute_result"
    },
    {
     "data": {
      "image/png": "[encoded data removed]",
      "text/plain": [
       "<Figure size 640x480 with 1 Axes>"
      ]
     },
     "metadata": {},
     "output_type": "display_data"
    }
   ],
   "source": [
    "q95 = df.Preu.quantile(0.95)\n",
    "df = df[df.Preu < q95]\n",
    "df.boxplot(column = 'Preu')\n",
    "df.describe()"
   ]
  },
  {
   "cell_type": "markdown",
   "metadata": {},
   "source": [
    "Después de eliminar el 5% de los valores con los precios mas extremos, la desviación estandar se ha visto reducida en mas de un 50% de manera que parece que hemos eliminados algunos de los outliers.\n",
    "El siguiente paso es determinar el tipo de vivienda que se alquila a un mayor precio y el que ofrece un tipo de retabilidad por metro quadrado mas alta"
   ]
  },
  {
   "cell_type": "code",
   "execution_count": 59,
   "metadata": {},
   "outputs": [
    {
     "data": {
      "text/plain": [
       "<AxesSubplot:xlabel='Tipo'>"
      ]
     },
     "execution_count": 59,
     "metadata": {},
     "output_type": "execute_result"
    },
    {
     "data": {
      "image/png": "[encoded data removed]",
      "text/plain": [
       "<Figure size 640x480 with 1 Axes>"
      ]
     },
     "metadata": {},
     "output_type": "display_data"
    }
   ],
   "source": [
    "df.groupby('Tipo')['m2'].mean().sort_values(ascending=False).plot(kind='bar')"
   ]
  },
  {
   "cell_type": "markdown",
   "metadata": {},
   "source": [
    "Determinamos que el tipo de vivienda con mayor rentabilidad por metro quadrado son las casas seguido de duplex, casa adosada y atico de obra nueva. A continuación estudiaremos cual es la oferta."
   ]
  },
  {
   "cell_type": "code",
   "execution_count": 60,
   "metadata": {},
   "outputs": [
    {
     "data": {
      "text/plain": [
       "<AxesSubplot:>"
      ]
     },
     "execution_count": 60,
     "metadata": {},
     "output_type": "execute_result"
    },
    {
     "data": {
      "image/png": "[encoded data removed]",
      "text/plain": [
       "<Figure size 640x480 with 1 Axes>"
      ]
     },
     "metadata": {},
     "output_type": "display_data"
    }
   ],
   "source": [
    "fig, ax = plt.subplots()\n",
    "df['Tipo'].value_counts().plot(ax=ax, kind='bar')"
   ]
  },
  {
   "cell_type": "markdown",
   "metadata": {},
   "source": [
    "La freqüencia indica que los pisos tiene  la mayor oferta de alquileres seguido de apartamentos y áticos. Para el resto de tipos de vivienda, la cantidad de datos analizada es demasiado baja para incluirlos en nuestro estudio de manera que nos centraremos únicamente en estos 3 tipos de vivienda"
   ]
  },
  {
   "cell_type": "code",
   "execution_count": 64,
   "metadata": {},
   "outputs": [
    {
     "data": {
      "text/plain": [
       "<AxesSubplot:xlabel='Tipo'>"
      ]
     },
     "execution_count": 64,
     "metadata": {},
     "output_type": "execute_result"
    },
    {
     "data": {
      "image/png": "[encoded data removed]",
      "text/plain": [
       "<Figure size 640x480 with 1 Axes>"
      ]
     },
     "metadata": {},
     "output_type": "display_data"
    }
   ],
   "source": [
    "df = df[df['Tipo'].isin(['Piso', 'Apartamento', 'Ático'])]\n",
    "df.groupby('Tipo')['r_m2'].mean().plot(kind='bar')"
   ]
  },
  {
   "cell_type": "markdown",
   "metadata": {},
   "source": [
    "Centrandonos en estos tres tipos de vivienda, la rentabilidad mas alta es la de los apartamentos que es aproximadamente de 25 € por metro cuadrado mientras que tanto la de los pisos como la de los áticos es de 20 € por metro cuadrado. Es sorprendente que la rentabilidad de un piso y de un ático se encuentren a la par cuando en principio, esperaríamos un mayor retorno por metro cuandrado por parte de los áticos"
   ]
  }
 ],
 "metadata": {
  "kernelspec": {
   "display_name": "Python 3.10.5 64-bit",
   "language": "python",
   "name": "python3"
  },
  "language_info": {
   "codemirror_mode": {
    "name": "ipython",
    "version": 3
   },
   "file_extension": ".py",
   "mimetype": "text/x-python",
   "name": "python",
   "nbconvert_exporter": "python",
   "pygments_lexer": "ipython3",
   "version": "3.10.5"
  },
  "orig_nbformat": 4,
  "vscode": {
   "interpreter": {
    "hash": "cf26d95048f6241e67cb614367192b7fe1e9f4d669514ff80e69ee693d3caf34"
   }
  }
 },
 "nbformat": 4,
 "nbformat_minor": 2
}
